{
 "cells": [
  {
   "cell_type": "code",
   "execution_count": 6,
   "metadata": {
    "collapsed": true
   },
   "outputs": [],
   "source": [
    "import matplotlib.pyplot as plt\n",
    "import gzip"
   ]
  },
  {
   "cell_type": "code",
   "execution_count": 7,
   "metadata": {
    "collapsed": true
   },
   "outputs": [],
   "source": [
    "Annotation = \"/home/local/users/jw/Genetics_Projects/SPARK/30K/VCF/TrioVCF/sites/SPARK30K.TrioSamples.Chr1.vep.vcf.gz\"\n",
    "EUR = \"/home/local/users/jw/Genetics_Projects/SPARK/spark_genomics/dat/SPARK30K.TrioSamples.Chr1.eurAF.vcf.gz\""
   ]
  },
  {
   "cell_type": "code",
   "execution_count": 10,
   "metadata": {},
   "outputs": [],
   "source": [
    "def getINFO(info_string):\n",
    "    infolist = info_string.split(';')\n",
    "    infodict = {}\n",
    "    for kv in infolist:\n",
    "        kv = kv.split('=')\n",
    "        if len(kv) == 2:\n",
    "            k, v = kv\n",
    "            infodict[k] = v\n",
    "    return infodict\n",
    "\n",
    "def Load_VEP(VCF):\n",
    "    fin = gzip.open(VCF, 'rt')\n",
    "    res = {}\n",
    "    for l in fin:\n",
    "        if l.startswith(\"##INFO=<ID=CSQ\"):\n",
    "            CSQ_terms = l.strip().split(\"Format: \")[1].split(\"|\")\n",
    "        elif l.startswith(\"#\"):\n",
    "            continue\n",
    "        else:\n",
    "            llist = l.strip().split(\"\\t\")\n",
    "            key = \"-\".join([llist[0], llist[1], llist[3], llist[4]])\n",
    "            infodict = getINFO(llist[7])\n",
    "            VEPs = infodict[\"CSQ\"].split(\",\")\n",
    "            VEPs = [dict(zip(CSQ_terms, vep.split(\"|\"))) for vep in VEPs]\n",
    "            res[key] = VEPs\n",
    "    return res"
   ]
  },
  {
   "cell_type": "code",
   "execution_count": 11,
   "metadata": {},
   "outputs": [],
   "source": [
    "VEP = Load_VEP(Annotation)"
   ]
  },
  {
   "cell_type": "code",
   "execution_count": 12,
   "metadata": {},
   "outputs": [],
   "source": [
    "AF_gnomADg, AF_spark = [], []\n",
    "GF_gnomADg, GF_spark = [], []\n",
    "consequces = {}\n",
    "consequces2 = {}\n",
    "fin = gzip.open(EUR, 'rt')\n",
    "for l in fin:\n",
    "    if l.startswith(\"#\"):\n",
    "        continue\n",
    "    else:\n",
    "        llist = l.strip().split(\"\\t\")\n",
    "        key = \"-\".join([llist[0], llist[1], llist[3], llist[4]])\n",
    "        veps = VEP[key]\n",
    "        infodict = getINFO(llist[7])\n",
    "        for i, allele in enumerate(llist[4].split(\",\")):\n",
    "            AF = float(infodict[\"EUR_AF\"].split(\",\")[i])\n",
    "            if AF == 0:\n",
    "                continue\n",
    "            GF_hom = float(infodict[\"EUR_AC_Hom\"].split(\",\")[i])\n",
    "            AN = float(infodict[\"EUR_AN\"])/2\n",
    "            for vep in veps:\n",
    "                if vep[\"Allele\"] == allele or (vep[\"Allele\"]==\"-\" and len(allele) < len(llist[3])):\n",
    "                    vep[\"gnomADg_AF_NFE\"] = vep[\"gnomADg_AF_NFE\"].split(\"&\")[0]\n",
    "                    gnomADg_af = 0 if (vep[\"gnomADg_AF_NFE\"] == \"\" or vep[\"gnomADg_AF_NFE\"] == \".\")\\\n",
    "                    else float(vep[\"gnomADg_AF_NFE\"])\n",
    "                    gnomADg_hom = 0 if vep[\"gnomADg_Hom_NFE\"]==\"\" else float(vep[\"gnomADg_Hom_NFE\"])\n",
    "                    AF_gnomADg.append(gnomADg_af)\n",
    "                    GF_gnomADg.append(gnomADg_hom/15708)\n",
    "                    AF_spark.append(AF)\n",
    "                    GF_spark.append(GF_hom/AN)\n",
    "                    if vep[\"Consequence\"] not in consequces2:\n",
    "                        consequces2[vep[\"Consequence\"]] = 1\n",
    "                    else:\n",
    "                        consequces2[vep[\"Consequence\"]] += 1\n",
    "                    cons = vep[\"Consequence\"].split(\"&\")\n",
    "                    for con in cons:\n",
    "                        if con not in consequces:\n",
    "                            consequces[con] = 1\n",
    "                        else:\n",
    "                            consequces[con] += 1\n",
    "                        break"
   ]
  },
  {
   "cell_type": "code",
   "execution_count": 13,
   "metadata": {},
   "outputs": [
    {
     "name": "stdout",
     "output_type": "stream",
     "text": [
      "{'5_prime_UTR_variant': 33964, 'synonymous_variant': 140423, 'downstream_gene_variant': 453799, 'missense_variant': 255531, 'frameshift_variant': 5119, 'stop_gained': 6960, 'upstream_gene_variant': 359274, 'intron_variant': 947044, 'splice_region_variant': 47203, 'non_coding_transcript_exon_variant': 152503, '3_prime_UTR_variant': 77852, 'inframe_deletion': 3105, 'splice_acceptor_variant': 2607, 'splice_donor_variant': 3480, 'stop_lost': 268, 'inframe_insertion': 166, 'start_lost': 682, 'mature_miRNA_variant': 75, 'stop_retained_variant': 144, 'incomplete_terminal_codon_variant': 39, 'coding_sequence_variant': 50, 'intergenic_variant': 297, 'protein_altering_variant': 3}\n",
      "\n",
      "{'5_prime_UTR_variant': 30990, 'synonymous_variant': 132899, 'downstream_gene_variant': 453799, 'missense_variant': 233906, 'frameshift_variant': 4659, 'stop_gained': 6202, 'upstream_gene_variant': 359274, 'intron_variant': 616602, 'splice_region_variant&intron_variant': 25431, 'missense_variant&splice_region_variant': 7102, 'splice_region_variant&synonymous_variant': 3931, 'intron_variant&non_coding_transcript_variant': 224696, 'non_coding_transcript_exon_variant': 152503, 'splice_region_variant&intron_variant&non_coding_transcript_variant': 7858, 'splice_region_variant&non_coding_transcript_exon_variant': 3754, '3_prime_UTR_variant': 45535, 'inframe_deletion': 2895, 'splice_acceptor_variant': 1702, 'splice_donor_variant': 2070, 'splice_region_variant&3_prime_UTR_variant': 109, 'stop_lost': 222, 'inframe_insertion': 152, 'splice_donor_variant&non_coding_transcript_variant': 677, 'start_lost': 570, 'splice_region_variant&5_prime_UTR_variant': 616, 'synonymous_variant&NMD_transcript_variant': 7524, 'missense_variant&NMD_transcript_variant': 13993, 'intron_variant&NMD_transcript_variant': 105746, 'stop_gained&NMD_transcript_variant': 461, 'splice_region_variant&intron_variant&NMD_transcript_variant': 3961, '3_prime_UTR_variant&NMD_transcript_variant': 32317, 'splice_region_variant&3_prime_UTR_variant&NMD_transcript_variant': 1127, 'splice_donor_variant&NMD_transcript_variant': 415, 'splice_donor_variant&intron_variant': 99, 'stop_gained&splice_region_variant': 217, 'inframe_deletion&splice_region_variant': 30, 'missense_variant&splice_region_variant&NMD_transcript_variant': 530, '5_prime_UTR_variant&NMD_transcript_variant': 2974, 'frameshift_variant&splice_region_variant': 121, 'splice_region_variant&synonymous_variant&NMD_transcript_variant': 340, 'frameshift_variant&NMD_transcript_variant': 287, 'splice_acceptor_variant&non_coding_transcript_variant': 500, 'splice_acceptor_variant&NMD_transcript_variant': 278, 'splice_acceptor_variant&coding_sequence_variant': 36, 'splice_acceptor_variant&5_prime_UTR_variant': 2, 'splice_acceptor_variant&coding_sequence_variant&NMD_transcript_variant': 1, 'splice_acceptor_variant&non_coding_transcript_exon_variant': 12, 'inframe_deletion&NMD_transcript_variant': 177, 'stop_gained&splice_region_variant&NMD_transcript_variant': 30, 'mature_miRNA_variant': 75, 'stop_retained_variant&NMD_transcript_variant': 9, 'splice_donor_variant&coding_sequence_variant&intron_variant': 41, 'stop_retained_variant': 129, 'splice_acceptor_variant&intron_variant': 53, 'splice_acceptor_variant&intron_variant&NMD_transcript_variant': 7, 'splice_acceptor_variant&intron_variant&non_coding_transcript_variant': 11, 'splice_region_variant&coding_sequence_variant': 3, 'splice_donor_variant&coding_sequence_variant': 55, 'splice_donor_variant&non_coding_transcript_exon_variant': 15, 'splice_region_variant&5_prime_UTR_variant&NMD_transcript_variant': 68, 'start_lost&NMD_transcript_variant': 80, 'inframe_insertion&NMD_transcript_variant': 14, 'incomplete_terminal_codon_variant&coding_sequence_variant': 37, 'start_lost&5_prime_UTR_variant': 2, 'stop_lost&splice_region_variant': 4, 'frameshift_variant&splice_region_variant&NMD_transcript_variant': 9, 'coding_sequence_variant&NMD_transcript_variant': 12, 'stop_lost&NMD_transcript_variant': 33, 'coding_sequence_variant': 33, 'start_lost&splice_region_variant': 25, 'splice_donor_variant&coding_sequence_variant&intron_variant&NMD_transcript_variant': 7, 'splice_donor_variant&non_coding_transcript_exon_variant&intron_variant': 16, 'splice_acceptor_variant&5_prime_UTR_variant&intron_variant': 1, 'splice_acceptor_variant&coding_sequence_variant&intron_variant': 2, 'intergenic_variant': 297, 'splice_donor_variant&intron_variant&NMD_transcript_variant': 23, 'stop_gained&frameshift_variant': 34, 'frameshift_variant&stop_lost': 23, 'splice_region_variant&coding_sequence_variant&intron_variant&NMD_transcript_variant': 1, 'splice_region_variant&coding_sequence_variant&intron_variant': 3, 'splice_region_variant&non_coding_transcript_exon_variant&intron_variant': 1, 'coding_sequence_variant&3_prime_UTR_variant': 3, 'frameshift_variant&start_lost&NMD_transcript_variant': 4, 'frameshift_variant&start_lost': 12, 'splice_donor_variant&missense_variant': 2, 'splice_donor_variant&intron_variant&non_coding_transcript_variant': 38, 'stop_lost&splice_region_variant&NMD_transcript_variant': 3, 'splice_acceptor_variant&3_prime_UTR_variant&NMD_transcript_variant': 1, 'splice_donor_variant&5_prime_UTR_variant': 4, 'splice_acceptor_variant&synonymous_variant': 1, 'start_lost&splice_region_variant&NMD_transcript_variant': 1, 'splice_donor_variant&3_prime_UTR_variant&intron_variant&NMD_transcript_variant': 4, 'splice_donor_variant&3_prime_UTR_variant&NMD_transcript_variant': 8, 'start_lost&inframe_deletion': 4, 'incomplete_terminal_codon_variant&coding_sequence_variant&3_prime_UTR_variant': 2, 'stop_lost&3_prime_UTR_variant&NMD_transcript_variant': 1, 'splice_donor_variant&coding_sequence_variant&NMD_transcript_variant': 6, 'protein_altering_variant': 3, 'stop_lost&splice_region_variant&3_prime_UTR_variant&NMD_transcript_variant': 1, 'frameshift_variant&stop_retained_variant': 2, 'frameshift_variant&start_lost&start_retained_variant': 2, 'stop_retained_variant&3_prime_UTR_variant': 2, 'stop_gained&inframe_deletion': 10, 'stop_lost&3_prime_UTR_variant': 4, 'inframe_deletion&splice_region_variant&NMD_transcript_variant': 3, 'stop_retained_variant&3_prime_UTR_variant&NMD_transcript_variant': 4, 'stop_gained&inframe_deletion&splice_region_variant': 6, 'coding_sequence_variant&5_prime_UTR_variant': 1, 'coding_sequence_variant&5_prime_UTR_variant&NMD_transcript_variant': 1}\n"
     ]
    }
   ],
   "source": [
    "print (consequces)\n",
    "print ()\n",
    "print (consequces2)"
   ]
  },
  {
   "cell_type": "code",
   "execution_count": 14,
   "metadata": {},
   "outputs": [
    {
     "data": {
      "image/png": "[encoded data removed]",
      "text/plain": [
       "<Figure size 432x288 with 1 Axes>"
      ]
     },
     "metadata": {},
     "output_type": "display_data"
    }
   ],
   "source": [
    "plt.hist(AF_gnomADg, bins=30)\n",
    "plt.hist(AF_spark, bins=30)\n",
    "plt.show()"
   ]
  },
  {
   "cell_type": "code",
   "execution_count": 15,
   "metadata": {},
   "outputs": [
    {
     "data": {
      "image/png": "[encoded data removed]",
      "text/plain": [
       "<Figure size 432x288 with 1 Axes>"
      ]
     },
     "metadata": {},
     "output_type": "display_data"
    }
   ],
   "source": [
    "plt.scatter(AF_gnomADg, AF_spark, s=0.1)\n",
    "plt.xlabel(\"gnomADg EUR AF\")\n",
    "plt.ylabel(\"spark 30K EUR AF\")\n",
    "plt.show()"
   ]
  },
  {
   "cell_type": "code",
   "execution_count": 16,
   "metadata": {
    "collapsed": true
   },
   "outputs": [],
   "source": [
    "import csv"
   ]
  },
  {
   "cell_type": "code",
   "execution_count": 17,
   "metadata": {},
   "outputs": [],
   "source": [
    "# Get Autozygous Region\n",
    "fin = open(\"../dat/roh.txt\")\n",
    "fout = open(\"../dat/roh.az.txt\", 'w')\n",
    "for l in fin:\n",
    "    if l.startswith(\"#\"):\n",
    "        continue\n",
    "    llist = l.strip().split(\"\\t\")\n",
    "    if llist[4] == \"1\":\n",
    "        fout.write(l)"
   ]
  },
  {
   "cell_type": "code",
   "execution_count": 18,
   "metadata": {},
   "outputs": [],
   "source": [
    "genecodechr21 = \"/home/local/users/jw/vep_data/homo_sapiens/GeneCodeV29/CHRs/genecodev29.21.gtf\"\n",
    "\n",
    "class GTFRecord:\n",
    "    def __init__(self, Chr, source, Type, start, end, strand, info):\n",
    "        self.Chr = Chr\n",
    "        self.source = source\n",
    "        self.Type = Type\n",
    "        self.start = start\n",
    "        self.end = end\n",
    "        self.strand = strand\n",
    "        self.info = info\n",
    "\n",
    "def gtf_info_parser(info):\n",
    "    res = {}\n",
    "    for term in info.split(\";\"):\n",
    "        if term == \"\":\n",
    "            continue\n",
    "        #print(\">\",term)\n",
    "        key,v = term.split()\n",
    "        v = v.strip('\"')\n",
    "        res[key]=v\n",
    "    return res\n",
    "        \n",
    "def LoadGeneCode(genecodefil):\n",
    "    Genes = {}\n",
    "    Transcripts = {}\n",
    "    hand = open(genecodefil, 'rt')\n",
    "    for l in hand:\n",
    "        if l.startswith(\"#\"):\n",
    "            continue\n",
    "        llist = l.strip().split(\"\\t\")\n",
    "        info = gtf_info_parser(llist[8])\n",
    "        if llist[2] == \"gene\":\n",
    "            Genes[info[\"gene_name\"]] = GTFRecord(llist[0], llist[1], llist[2], llist[3], llist[4], llist[6], info)\n",
    "            Transcripts[info[\"gene_name\"]] = []\n",
    "        elif llist[2] == \"transcript\":\n",
    "            Transcripts[info[\"gene_name\"]].append(GTFRecord(llist[0], llist[1], llist[2], llist[3], llist[4], llist[6], info))\n",
    "    return Genes, Transcripts "
   ]
  },
  {
   "cell_type": "code",
   "execution_count": 19,
   "metadata": {},
   "outputs": [],
   "source": [
    "Genes, Transtripts = LoadGeneCode(genecodechr21)"
   ]
  },
  {
   "cell_type": "code",
   "execution_count": 20,
   "metadata": {
    "collapsed": true
   },
   "outputs": [],
   "source": [
    "import pysam\n",
    "import csv\n",
    "import numpy\n",
    "import matplotlib as plt"
   ]
  },
  {
   "cell_type": "code",
   "execution_count": 21,
   "metadata": {},
   "outputs": [],
   "source": [
    "GenotypeFil = pysam.TabixFile(\"/home/local/users/jw/Genetics_Projects/SPARK/30K/VCF/TrioVCF/Genotypes/SPARK30K.TrioSamples.Chr21.vcf.gz\")\n",
    "VEPFil = pysam.TabixFile(\"/home/local/users/jw/Genetics_Projects/SPARK/30K/VCF/TrioVCF/sites/SPARK30K.TrioSamples.Chr21.vep.vcf.gz\")\n",
    "CohortAFFil = pysam.TabixFile(\"/home/local/users/jw/Genetics_Projects/SPARK/spark_genomics/dat/SPARK30K.TrioSamples.Chr21.eurAF.vcf.gz\")"
   ]
  },
  {
   "cell_type": "code",
   "execution_count": 22,
   "metadata": {},
   "outputs": [
    {
     "name": "stdout",
     "output_type": "stream",
     "text": [
      "['Allele', 'Consequence', 'IMPACT', 'SYMBOL', 'Gene', 'Feature_type', 'Feature', 'BIOTYPE', 'EXON', 'INTRON', 'HGVSc', 'HGVSp', 'cDNA_position', 'CDS_position', 'Protein_position', 'Amino_acids', 'Codons', 'Existing_variation', 'DISTANCE', 'STRAND', 'FLAGS', 'SYMBOL_SOURCE', 'HGNC_ID', 'CANONICAL', 'SOURCE', 'AFR_AF', 'AMR_AF', 'EAS_AF', 'EUR_AF', 'SAS_AF', 'gnomAD_AF', 'gnomAD_AFR_AF', 'gnomAD_AMR_AF', 'gnomAD_ASJ_AF', 'gnomAD_EAS_AF', 'gnomAD_FIN_AF', 'gnomAD_NFE_AF', 'gnomAD_OTH_AF', 'gnomAD_SAS_AF', 'CLIN_SIG', 'SOMATIC', 'PHENO', 'ExAC_AF', 'ExAC_AF_AFR', 'ExAC_AF_AMR', 'ExAC_AF_Adj', 'ExAC_AF_EAS', 'ExAC_AF_FIN', 'ExAC_AF_NFE', 'ExAC_AF_OTH', 'ExAC_AF_SAS', 'MPC', 'REVEL', 'CADD_PHRED', 'CADD_RAW', 'gnomADg', 'gnomADg_AF_AFR', 'gnomADg_AF_AMR', 'gnomADg_AF_ASJ', 'gnomADg_AF_EAS', 'gnomADg_AF_FIN', 'gnomADg_AF_NFE', 'gnomADg_AF_OTH', 'gnomADg_Hom_AFR', 'gnomADg_Hom_AMR', 'gnomADg_Hom_ASJ', 'gnomADg_Hom_EAS', 'gnomADg_Hom_NFE', 'gnomADg_Hom_OTH', 'gnomADg_Hom_SAS', 'gnomADe', 'gnomADe_AF_AFR', 'gnomADe_AF_AMR', 'gnomADe_AF_ASJ', 'gnomADe_AF_EAS', 'gnomADe_AF_FIN', 'gnomADe_AF_NFE', 'gnomADe_AF_OTH', 'gnomADe_Hom_AFR', 'gnomADe_Hom_AMR', 'gnomADe_Hom_ASJ', 'gnomADe_Hom_EAS', 'gnomADe_Hom_NFE', 'gnomADe_Hom_OTH', 'gnomADe_Hom_SAS', 'spliceAI', 'spliceAI_SYMBOL', 'spliceAI_STRAND', 'spliceAI_TYPE', 'spliceAI_DIST', 'spliceAI_DS_AG', 'spliceAI_DS_AL', 'spliceAI_DS_DG', 'spliceAI_DS_DL', 'spliceAI_DP_AG', 'spliceAI_DP_AL', 'spliceAI_DP_DG', 'spliceAI_DP_DL']\n"
     ]
    }
   ],
   "source": [
    "CSQ_header = [X.strip().split(\"Format: \")[1].rstrip('>\\\"').split(\"|\") for X in VEPFil.header if X.startswith(\"##INFO=<ID=CSQ\")][0]\n",
    "print(CSQ_header)"
   ]
  },
  {
   "cell_type": "code",
   "execution_count": 23,
   "metadata": {},
   "outputs": [
    {
     "name": "stdout",
     "output_type": "stream",
     "text": [
      "['SP0030253', 'SP0000006', 'SP0030255', 'SP0013567', 'SP0000009', 'SP0013501', 'SP0024927', 'SP0000014', 'SP0024909', 'SP0024943']\n"
     ]
    }
   ],
   "source": [
    "Samples = GenotypeFil.header[-1].split(\"\\t\")[9:]\n",
    "print(Samples[:10])"
   ]
  },
  {
   "cell_type": "code",
   "execution_count": 24,
   "metadata": {},
   "outputs": [],
   "source": [
    "PedFil = \"/home/local/users/jw/Genetics_Projects/SPARK/spark_genomics/dat/EUR_Trios.ped\"\n",
    "Trios = []\n",
    "reader = csv.reader(open(PedFil, 'rt'), delimiter=\"\\t\")\n",
    "counter = 0\n",
    "for row in reader:\n",
    "    counter += 1\n",
    "    if counter == 1:\n",
    "        NewTrio = []\n",
    "        row.append(Samples.index(row[1]))\n",
    "        NewTrio.append(row)\n",
    "    if counter == 2:\n",
    "        row.append(Samples.index(row[1]))\n",
    "        NewTrio.append(row)\n",
    "    if counter == 3:\n",
    "        row.append(Samples.index(row[1]))\n",
    "        NewTrio.append(row)\n",
    "        Trios.append(NewTrio)\n",
    "        counter = 0"
   ]
  },
  {
   "cell_type": "code",
   "execution_count": 25,
   "metadata": {},
   "outputs": [
    {
     "name": "stdout",
     "output_type": "stream",
     "text": [
      "[['SF0013567', 'SP0013567', 'SP0000009', 'SP0013501', '1', '2', 3], ['SF0013567', 'SP0000009', '0', '0', '1', '1', 4], ['SF0013567', 'SP0013501', '0', '0', '2', '1', 5]]\n"
     ]
    }
   ],
   "source": [
    "print (Trios[0])"
   ]
  },
  {
   "cell_type": "code",
   "execution_count": 26,
   "metadata": {},
   "outputs": [
    {
     "name": "stdout",
     "output_type": "stream",
     "text": [
      "FP565260.4 5011799 5017145\n",
      "FP565260.3 5022493 5040666\n",
      "GATD3B 5079294 5128425\n",
      "FP565260.2 5116343 5133805\n",
      "FP565260.1 5130871 5154734\n",
      "FP565260.6 5155499 5165472\n"
     ]
    }
   ],
   "source": [
    "N = 5\n",
    "for i, (Gene,GTF) in enumerate(Genes.items()):\n",
    "    start, end = int(GTF.start), int(GTF.end)\n",
    "    print(Gene, start, end)\n",
    "    veps = []\n",
    "    for term in VEPFil.fetch('21', start, end):\n",
    "        print(term)\n",
    "    if i >= N:\n",
    "        break"
   ]
  },
  {
   "cell_type": "code",
   "execution_count": 70,
   "metadata": {},
   "outputs": [],
   "source": [
    "def match_allele_csq(Ref, Alts, csq_head, csq_string):\n",
    "    # Trim Leading Base\n",
    "    Alts = Alts.split(\",\")\n",
    "    if len(list(set([x[0] for x in Alts])))==1 and Ref[0] == list(set([x[0] for x in Alts]))[0]:\n",
    "        _Ref = Ref[1:] if len(Ref[1:]) >0 else \"-\"\n",
    "        _Alts = [Alt[1:] if len(Alt[1:]) >0 else \"-\" for Alt in Alts]\n",
    "        #print (Ref, Alts, \";\", _Ref, _Alts)\n",
    "    else:\n",
    "        _Alts = Alts\n",
    "    res = {}\n",
    "    csqs = csq_string.split(\",\")\n",
    "    csqs = [dict(zip(csq_head, vep.split(\"|\"))) for vep in csqs]\n",
    "    for i, Alt in enumerate(Alts):\n",
    "        res[Alt] = []\n",
    "        for j, csq in enumerate(csqs):\n",
    "            if csq[\"Allele\"] == _Alts[i]:\n",
    "                csq[\"Consequence\"] = csq[\"Consequence\"] .split(\"&\")\n",
    "                res[Alt].append(csq)\n",
    "    return res"
   ]
  },
  {
   "cell_type": "code",
   "execution_count": 75,
   "metadata": {
    "collapsed": true
   },
   "outputs": [],
   "source": [
    "LGD = set([\"splice_acceptor_variant\", \"splice_donor_variant\", \"stop_gained\", \n",
    "       \"stop_lost\", \"start_lost\", \"frameshift_variant\"])"
   ]
  },
  {
   "cell_type": "code",
   "execution_count": 87,
   "metadata": {
    "scrolled": false
   },
   "outputs": [
    {
     "name": "stdout",
     "output_type": "stream",
     "text": [
      "FP565260.6 10521553 10606140\n",
      "995 995 995\n",
      "0 6.383250351078769e-05 ['splice_acceptor_variant']\n",
      "0 6.853070175438596e-05 ['synonymous_variant']\n",
      "0 6.903216899074968e-05 ['synonymous_variant']\n",
      "0 6.922331441229406e-05 ['synonymous_variant']\n",
      "0 0.00025233409033560434 ['synonymous_variant']\n",
      "0 6.527415143603133e-05 ['synonymous_variant']\n",
      "0 6.407791874919902e-05 ['splice_acceptor_variant']\n",
      "0 0.00012515644555694618 ['synonymous_variant']\n",
      "0 6.397134083930399e-05 ['missense_variant'] 25.7\n",
      "0 0.0006322711178553364 ['synonymous_variant']\n",
      "0 0.0002559836170485089 ['frameshift_variant']\n",
      "0 0.00019392372333548803 ['synonymous_variant']\n",
      "0 6.485925541574782e-05 ['synonymous_variant']\n",
      "0 0.002051473330846699 ['stop_gained']\n",
      "0 6.215040397762585e-05 ['missense_variant'] 25.2\n",
      "0 0.005904288377874456 ['synonymous_variant']\n",
      "0 6.215040397762585e-05 ['missense_variant'] 25.1\n",
      "0 0.0007458048477315103 ['synonymous_variant']\n",
      "0 6.215040397762585e-05 ['splice_donor_variant']\n",
      "0 6.329113924050633e-05 ['synonymous_variant']\n",
      "0 6.367804381049414e-05 ['missense_variant'] 29.8\n",
      "0 6.367804381049414e-05 ['missense_variant'] 32.0\n",
      "0 6.367804381049414e-05 ['frameshift_variant']\n",
      "0 0.00012735608762098828 ['missense_variant'] 26.9\n",
      "0 6.367804381049414e-05 ['stop_gained']\n",
      "0 6.368615462998345e-05 ['stop_gained', 'splice_region_variant']\n",
      "0 0.0001273723092599669 ['splice_donor_variant']\n",
      "0 0.004142606075822244 ['missense_variant'] 25.5\n",
      "0 0.00019161982626469086 ['missense_variant'] 26.5\n",
      "0 6.379178361826996e-05 ['missense_variant'] 25.1\n",
      "0 0.00013493455673998112 ['stop_gained']\n",
      "0 6.751282743721307e-05 ['synonymous_variant']\n",
      "0 6.751282743721307e-05 ['stop_gained']\n",
      "0 6.751282743721307e-05 ['missense_variant'] 27.3\n",
      "0 6.75310642895732e-05 ['missense_variant', 'splice_region_variant'] 25.4\n",
      "0 6.250781347668459e-05 ['synonymous_variant']\n",
      "0 6.250781347668459e-05 ['synonymous_variant']\n",
      "0 6.251562890722681e-05 ['missense_variant'] 28.0\n",
      "0 6.613756613756614e-05 ['splice_acceptor_variant']\n",
      "0 6.650704974727321e-05 ['missense_variant'] 26.3\n",
      "0 6.748549061951681e-05 ['synonymous_variant']\n",
      "0 6.821282401091406e-05 ['missense_variant'] 25.5\n",
      "0 0.00027285129604365623 ['synonymous_variant']\n",
      "0 6.825006825006825e-05 ['synonymous_variant']\n",
      "0 0.0001365001365001365 ['synonymous_variant']\n",
      "0 6.777822963264199e-05 ['synonymous_variant']\n",
      "0 6.822213125938055e-05 ['splice_donor_variant']\n",
      "0 6.822213125938055e-05 ['splice_donor_variant']\n",
      "0 0.0008078548347004723 ['splice_acceptor_variant']\n",
      "0 6.214267959234402e-05 ['frameshift_variant']\n",
      "0 6.214267959234402e-05 ['stop_gained']\n",
      "0 6.215813028344107e-05 ['synonymous_variant']\n",
      "0 6.214267959234402e-05 ['missense_variant'] 25.8\n",
      "0 0.00031075201988812925 ['synonymous_variant']\n",
      "0 6.228977201943441e-05 ['synonymous_variant']\n",
      "0 6.230529595015576e-05 ['synonymous_variant']\n",
      "0 6.231306081754735e-05 ['missense_variant'] 32.0\n",
      "0 0.00018703241895261845 ['synonymous_variant']\n",
      "0 6.2375249500998e-05 ['synonymous_variant']\n",
      "0 0.0025577043044291954 ['missense_variant', 'splice_region_variant'] 25.7\n",
      "0 0.0010590580613007725 ['stop_gained']\n",
      "0 0.0006238303181534623 ['synonymous_variant']\n",
      "0 0.00012919896640826872 ['splice_region_variant', 'synonymous_variant']\n",
      "0 6.270378730875344e-05 ['synonymous_variant']\n",
      "0 6.598046978094485e-05 ['splice_region_variant', 'synonymous_variant']\n",
      "0 0.0002493143854400399 ['splice_acceptor_variant']\n",
      "0 0.0005043500189131257 ['missense_variant'] 26.1\n",
      "0 0.005764443862177388 ['synonymous_variant']\n",
      "0 0.00020056157240272763 ['synonymous_variant']\n"
     ]
    }
   ],
   "source": [
    "gene = \"TPTE\"\n",
    "GTF = Genes[gene]\n",
    "start, end = int(GTF.start), int(GTF.end)\n",
    "print(Gene, start, end)\n",
    "veps, cohort, genotypes = [],[], []\n",
    "for term in VEPFil.fetch('21', start, end):\n",
    "    veps.append(term)\n",
    "for term in CohortAFFil.fetch('21', start, end):\n",
    "    cohort.append(term)\n",
    "for term in GenotypeFil.fetch('21', start, end):\n",
    "    genotypes.append(term)\n",
    "print(len(veps),len(cohort),len(genotypes))\n",
    "\n",
    "for var in zip(veps, cohort, genotypes):\n",
    "    llist = var[0].split(\"\\t\")\n",
    "    Chr, Pos, Ref, Alts = llist[0], llist[1], llist[3], llist[4]\n",
    "    cohort_af = list(map(float, getINFO(var[1].split(\"\\t\")[7])[\"EUR_AF\"].split(\",\")))\n",
    "    infodict = getINFO(llist[7])\n",
    "    Allele_CSQ_dict = match_allele_csq(Ref, Alts, CSQ_header, infodict[\"CSQ\"])\n",
    "    for i, Alt in enumerate(Alts.split(\",\")):\n",
    "        #print(Alt, Allele_CSQ_dict[Alt][0])\n",
    "        try:\n",
    "            Allele_CSQ_dict[Alt][0][\"gnomADg_AF_NFE\"] = Allele_CSQ_dict[Alt][0][\"gnomADg_AF_NFE\"].split(\"&\")[0]\n",
    "            gnomADg_af = 0 if (vep[\"gnomADg_AF_NFE\"] == \"\" or vep[\"gnomADg_AF_NFE\"] == \".\")\\\n",
    "                    else float(vep[\"gnomADg_AF_NFE\"])\n",
    "            Allele_CSQ_dict[Alt][0][\"gnomADe_AF_NFE\"] = Allele_CSQ_dict[Alt][0][\"gnomADe_AF_NFE\"].split(\"&\")[0]\n",
    "            gnomADe_af = 0 if (vep[\"gnomADe_AF_NFE\"] == \"\" or vep[\"gnomADe_AF_NFE\"] == \".\")\\\n",
    "                    else float(vep[\"gnomADe_AF_NFE\"])\n",
    "            af = cohort_af[i]\n",
    "            if gnomADg_af > 1e-2 or af > 1e-2 or af == 0:\n",
    "                continue\n",
    "            cons = Allele_CSQ_dict[Alt][0][\"Consequence\"]\n",
    "            #print (cons)\n",
    "            if len(set(cons).intersection(LGD))>= 1:\n",
    "                print (gnomADe_af, af, cons)\n",
    "            elif \"synonymous_variant\" in set(cons):\n",
    "                print (gnomADe_af, af, cons)\n",
    "            elif \"missense_variant\" in set(cons) and float(Allele_CSQ_dict[Alt][0][\"CADD_PHRED\"]) > 25:\n",
    "                print (gnomADe_af, af, cons, float(Allele_CSQ_dict[Alt][0][\"CADD_PHRED\"]))\n",
    "        except KeyError:\n",
    "            print(\"KeyError\", Alt, Allele_CSQ_dict)\n",
    "        except IndexError:\n",
    "            print(\"IndexError\", Ref, Alts, llist[7], Allele_CSQ_dict)\n",
    "    #break\n",
    "    #for Trio in Trios:\n",
    "    #    proband, Father, Mother = Trio\n",
    "    #    gt_p, gt_f, ft_m = "
   ]
  },
  {
   "cell_type": "code",
   "execution_count": null,
   "metadata": {
    "collapsed": true
   },
   "outputs": [],
   "source": []
  },
  {
   "cell_type": "code",
   "execution_count": null,
   "metadata": {
    "collapsed": true
   },
   "outputs": [],
   "source": []
  },
  {
   "cell_type": "code",
   "execution_count": null,
   "metadata": {
    "collapsed": true
   },
   "outputs": [],
   "source": []
  }
 ],
 "metadata": {
  "kernelspec": {
   "display_name": "Python [conda env:hail]",
   "language": "python",
   "name": "conda-env-hail-py"
  }
 },
 "nbformat": 4,
 "nbformat_minor": 2
}
